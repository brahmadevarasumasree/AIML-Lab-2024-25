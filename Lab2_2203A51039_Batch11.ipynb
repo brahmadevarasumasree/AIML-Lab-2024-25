{
  "nbformat": 4,
  "nbformat_minor": 0,
  "metadata": {
    "colab": {
      "provenance": [],
      "authorship_tag": "ABX9TyMu7zJI54kVGJzqPX0BRZDV",
      "include_colab_link": true
    },
    "kernelspec": {
      "name": "python3",
      "display_name": "Python 3"
    },
    "language_info": {
      "name": "python"
    }
  },
  "cells": [
    {
      "cell_type": "markdown",
      "metadata": {
        "id": "view-in-github",
        "colab_type": "text"
      },
      "source": [
        "<a href=\"https://colab.research.google.com/github/brahmadevarasumasree/AIML-Lab-2024-25-Batch11/blob/main/Lab2_2203A51039_Batch11.ipynb\" target=\"_parent\"><img src=\"https://colab.research.google.com/assets/colab-badge.svg\" alt=\"Open In Colab\"/></a>"
      ]
    },
    {
      "cell_type": "markdown",
      "source": [
        "##**Lab 02:Implement AI Search algorithm**\n",
        "\n"
      ],
      "metadata": {
        "id": "YWUn7WKrfll6"
      }
    },
    {
      "cell_type": "markdown",
      "source": [
        "**part 1 : Implement breadth first search algorithm**\n",
        "![bfs1.png]()\n"
      ],
      "metadata": {
        "id": "f1tM9bE1co7v"
      }
    },
    {
      "cell_type": "code",
      "source": [
        "import numpy as np\n",
        "\n",
        "from queue import Queue\n",
        "graph={0: [1,2,3], 1: [0,2], 2: [0,3,5], 3: [0,2,4], 4: [3,5,7], 5: [4,6,7], 6: [5,7] , 7:[4,5,6], 8:[]}\n",
        "print(\"the adjacency list representing the graph is \")\n",
        "print(graph)"
      ],
      "metadata": {
        "colab": {
          "base_uri": "https://localhost:8080/"
        },
        "id": "mPvkzsNFhmjU",
        "outputId": "3754bf68-4818-48da-e91e-0e7accee3883"
      },
      "execution_count": null,
      "outputs": [
        {
          "output_type": "stream",
          "name": "stdout",
          "text": [
            "the adjacency list representing the graph is \n",
            "{0: [1, 2, 3], 1: [0, 2], 2: [0, 3, 5], 3: [0, 2, 4], 4: [3, 5, 7], 5: [4, 6, 7], 6: [5, 7], 7: [4, 5, 6], 8: []}\n"
          ]
        }
      ]
    },
    {
      "cell_type": "code",
      "source": [
        "def bfs(graph, source):\n",
        "   Q=Queue()\n",
        "   visited_vertices=set()\n",
        "   Q.put(source)\n",
        "   visited_vertices.update({source})\n",
        "   while not Q.empty():\n",
        "     vertex=Q.get()\n",
        "     print (vertex, end=\"-->\")\n",
        "     for u in graph[vertex]:\n",
        "      if u not in visited_vertices:\n",
        "        Q.put(u)\n",
        "        visited_vertices.update({u})\n",
        "\n",
        "print(\"BFS traversal of graph with source 0 is:\")\n",
        "bfs(graph, 0)"
      ],
      "metadata": {
        "colab": {
          "base_uri": "https://localhost:8080/"
        },
        "id": "dM9GTnankQ7H",
        "outputId": "44992f44-5dc3-43b9-be2e-d1e37ff11292"
      },
      "execution_count": null,
      "outputs": [
        {
          "output_type": "stream",
          "name": "stdout",
          "text": [
            "BFS traversal of graph with source 0 is:\n",
            "0-->1-->2-->3-->5-->4-->6-->7-->"
          ]
        }
      ]
    },
    {
      "cell_type": "markdown",
      "source": [
        "**part 2 – Implement Depth First Search Algorithm using a Stack**\n"
      ],
      "metadata": {
        "id": "P0yZ7kB1aIb_"
      }
    },
    {
      "cell_type": "code",
      "source": [
        "graph1 = {\n",
        "    'A' : ['C','D','G'],\n",
        "    'B' : ['A'],\n",
        "    'C' : ['A','D','F'],\n",
        "    'D' : ['A','C','E','G','H'],\n",
        "    'E' : ['D','F','H'],\n",
        "    'F' : ['C','E'],\n",
        "    'G' : ['A','D','H'],\n",
        "    'H' : ['C','D','G'],\n",
        "}\n",
        "print(\"The adjacent list of representing graph is :\")\n",
        "print(graph1)"
      ],
      "metadata": {
        "id": "cCrvY4ptaWr0",
        "colab": {
          "base_uri": "https://localhost:8080/"
        },
        "outputId": "20f08c1d-d36a-46ba-ada6-dfa0d38fe829"
      },
      "execution_count": null,
      "outputs": [
        {
          "output_type": "stream",
          "name": "stdout",
          "text": [
            "The adjacent list of representing graph is :\n",
            "{'A': ['C', 'D', 'G'], 'B': ['A'], 'C': ['A', 'D', 'F'], 'D': ['A', 'C', 'E', 'G', 'H'], 'E': ['D', 'F', 'H'], 'F': ['C', 'E'], 'G': ['A', 'D', 'H'], 'H': ['C', 'D', 'G']}\n"
          ]
        }
      ]
    },
    {
      "cell_type": "code",
      "source": [
        "def dfs(graph, node, visited):\n",
        "  if node not in visited:\n",
        "    visited.append(node)\n",
        "    for k in graph[node]:\n",
        "      dfs(graph,k,visited)\n",
        "    return visited\n",
        "\n",
        "visited = dfs(graph1,'B', [])\n",
        "print(visited)\n"
      ],
      "metadata": {
        "colab": {
          "base_uri": "https://localhost:8080/"
        },
        "id": "8FsPxkHKlqsr",
        "outputId": "73a10c85-326d-408b-e963-362fbebe8ad1"
      },
      "execution_count": null,
      "outputs": [
        {
          "output_type": "stream",
          "name": "stdout",
          "text": [
            "['B', 'A', 'C', 'D', 'E', 'F', 'H', 'G']\n"
          ]
        }
      ]
    },
    {
      "cell_type": "markdown",
      "source": [
        "**part 3 : Implement of A* Algorithm Using Numpy**"
      ],
      "metadata": {
        "id": "qRZQd-_GuDdC"
      }
    },
    {
      "cell_type": "code",
      "source": [
        "from copy import deepcopy\n",
        "import numpy as np\n",
        "import time\n",
        "\n",
        "def bestsolution(state):\n",
        "    bestsol = np.array([], int).reshape(-1, 9)\n",
        "    count = len(state) - 1\n",
        "    while count != -1:\n",
        "       bestsol = np.insert(bestsol, 0, state[count][0], 0)\n",
        "       count = (state[count]['parent'])\n",
        "    return bestsol.reshape(-1, 3, 3)\n",
        "\n",
        "def all(checkarray):\n",
        "    set=[]\n",
        "    for it in set:\n",
        "        for checkarray in it:\n",
        "            return 1\n",
        "        else:\n",
        "            return 0\n",
        "# number of misplaced titles\n",
        "def misplaced_tiles(puzzle,goal):\n",
        "    mscost = np.sum(puzzle != goal) - 1\n",
        "    return mscost if mscost > 0 else 0\n",
        "\n",
        "def coordinates(puzzle):\n",
        "    pos = np.array(range(9))\n",
        "    for p, q in enumerate(puzzle):\n",
        "        pos[q] = p\n",
        "    return pos\n",
        "\n",
        "def evaluate_misplaced(puzzle, goal):\n",
        "     steps = np.array([('up', [0,1,2], -3),('down', [6,7,8], 3),('left', [0,3,6], -1),('right', [2,5,8], 1)],\n",
        "                 dtype = [('move', str, 1),('position', list),('head',int)])\n",
        "\n",
        "     dtstate = [('Puzzle', list),('parent', int),('gn', int),('hn', int)]\n",
        "\n",
        "     costg = coordinates(goal)\n",
        " # initializing parent , gn & hn where hn is misplaced_tiles function call\n",
        "     parent = -1\n",
        "     gn = 0\n",
        "     hn = misplaced_tiles(coordinates(puzzle), costg)\n",
        "     state = np.array([(puzzle, parent, gn, hn)], dtstate)\n",
        "\n",
        "\n",
        "     dtpriority = [('position', int), ('fn', int)]\n",
        "\n",
        "     priority = np.array([(0, hn)], dtpriority)\n",
        "\n",
        "     while 1:\n",
        "         priority = np.sort(priority, kind='mergesort', order=['fn','position'])\n",
        "         position, fn = priority[0]\n",
        "\n",
        "         priority = np.delete(priority, 0, 0)\n",
        "         puzzle, parent, gn, hn = state[position]\n",
        "         puzzle = np.array(puzzle)\n",
        "\n",
        "         blank = int(np.where(puzzle == 0)[0])\n",
        "\n",
        "         gn = gn+1\n",
        "         c = 1\n",
        "         start_time = time.time()\n",
        "         for s in steps:\n",
        "             c = c+1\n",
        "             if blank not in s['position']:\n",
        "                openstates=deepcopy(puzzle)\n",
        "\n",
        "                openstates[blank],  openstates[blank + s['head']]= openstates[blank+s['head']], openstates[blank]\n",
        "\n",
        "                if ~(np.all(list(state['Puzzle']) == openstates, 1)).any():\n",
        "                    end_time=time.time()\n",
        "                    if ((end_time-start_time)>2):\n",
        "                       print(\"The 8 puzzle is unsolvable \\n\")\n",
        "                       break\n",
        "\n",
        "                    hn = misplaced_tiles(coordinates(openstates),costg)\n",
        "                    q = np.array([(openstates, position, gn, hn)],dtstate)\n",
        "                    state = np.append(state,q,0)\n",
        "                    fn = gn + hn\n",
        "                    q = np.array([(len(state) -1, fn)], dtpriority)\n",
        "                    priority = np.append(priority, q, 0)\n",
        "                    if np.array_equal(openstates, goal):\n",
        "                        print('The 8 puzzle is solvable \\n')\n",
        "                        return state, len(priority)\n",
        "\n",
        "     return state, len(priority)\n",
        "\n",
        "#initial state\n",
        "puzzle = []\n",
        "\n",
        "puzzle.append(2)\n",
        "puzzle.append(8)\n",
        "puzzle.append(3)\n",
        "puzzle.append(7)\n",
        "puzzle.append(1)\n",
        "puzzle.append(4)\n",
        "puzzle.append(0)\n",
        "puzzle.append(6)\n",
        "puzzle.append(5)\n",
        "\n",
        "#goal state\n",
        "goal = []\n",
        "\n",
        "goal.append(1)\n",
        "goal.append(2)\n",
        "goal.append(3)\n",
        "goal.append(8)\n",
        "goal.append(0)\n",
        "goal.append(4)\n",
        "goal.append(7)\n",
        "goal.append(6)\n",
        "goal.append(5)\n",
        "\n",
        "state, visited = evaluate_misplaced(puzzle,goal)\n",
        "bestpath = bestsolution(state)\n",
        "print(str(bestpath).replace('[',' ').replace(']',''))\n",
        "totalmoves = len(bestpath) - 1\n",
        "print('\\nsteps to reach goal:',totalmoves)\n",
        "visit = len(state)- visited\n",
        "print('Total nodes visited:',visit)\n",
        "\n",
        "\n",
        "\n",
        "\n",
        "\n",
        "\n"
      ],
      "metadata": {
        "colab": {
          "base_uri": "https://localhost:8080/"
        },
        "id": "06PJXBhkvk87",
        "outputId": "ae2e56d3-9a6d-402e-8ba4-0e38e1a28a0c"
      },
      "execution_count": null,
      "outputs": [
        {
          "output_type": "stream",
          "name": "stdout",
          "text": [
            "The 8 puzzle is solvable \n",
            "\n",
            "   2 8 3\n",
            "   7 1 4\n",
            "   0 6 5\n",
            "\n",
            "   2 8 3\n",
            "   0 1 4\n",
            "   7 6 5\n",
            "\n",
            "   2 8 3\n",
            "   1 0 4\n",
            "   7 6 5\n",
            "\n",
            "   2 0 3\n",
            "   1 8 4\n",
            "   7 6 5\n",
            "\n",
            "   0 2 3\n",
            "   1 8 4\n",
            "   7 6 5\n",
            "\n",
            "   1 2 3\n",
            "   0 8 4\n",
            "   7 6 5\n",
            "\n",
            "   1 2 3\n",
            "   8 0 4\n",
            "   7 6 5\n",
            "\n",
            "steps to reach goal: 6\n",
            "Total nodes visited: 11\n"
          ]
        }
      ]
    },
    {
      "cell_type": "code",
      "source": [],
      "metadata": {
        "id": "hfobFlN5HbYc"
      },
      "execution_count": null,
      "outputs": []
    }
  ]
}